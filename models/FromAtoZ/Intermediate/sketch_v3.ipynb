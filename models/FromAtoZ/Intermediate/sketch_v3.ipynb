{
 "cells": [
  {
   "cell_type": "code",
   "execution_count": 100,
   "id": "6f4e0e99",
   "metadata": {
    "id": "6f4e0e99"
   },
   "outputs": [],
   "source": [
    "import numpy as np\n",
    "import pandas as pd\n",
    "import matplotlib.pyplot as plt\n",
    "\n",
    "from tqdm import tqdm\n",
    "from einops import rearrange\n",
    "import torch\n",
    "import torch.nn as nn\n",
    "import torch.nn.functional as F\n",
    "from torch.autograd import Function\n",
    "from torch.utils.data import DataLoader, Dataset"
   ]
  },
  {
   "cell_type": "code",
   "execution_count": 23,
   "id": "8e6f342a-ffd4-4f15-bf81-1cf8bb0de224",
   "metadata": {
    "colab": {
     "base_uri": "https://localhost:8080/"
    },
    "id": "8e6f342a-ffd4-4f15-bf81-1cf8bb0de224",
    "outputId": "342edd5d-aa05-4d35-c4e3-43d5f7fc5ff8",
    "scrolled": false
   },
   "outputs": [
    {
     "name": "stdout",
     "output_type": "stream",
     "text": [
      "Requirement already satisfied: einops in /usr/local/lib/python3.11/site-packages (0.6.1)\n",
      "\n",
      "\u001b[1m[\u001b[0m\u001b[34;49mnotice\u001b[0m\u001b[1;39;49m]\u001b[0m\u001b[39;49m A new release of pip is available: \u001b[0m\u001b[31;49m23.0.1\u001b[0m\u001b[39;49m -> \u001b[0m\u001b[32;49m23.2.1\u001b[0m\n",
      "\u001b[1m[\u001b[0m\u001b[34;49mnotice\u001b[0m\u001b[1;39;49m]\u001b[0m\u001b[39;49m To update, run: \u001b[0m\u001b[32;49mpython3.11 -m pip install --upgrade pip\u001b[0m\n"
     ]
    }
   ],
   "source": [
    "!pip3 install einops"
   ]
  },
  {
   "cell_type": "code",
   "execution_count": null,
   "id": "tPjFOAo-i1qa",
   "metadata": {
    "colab": {
     "base_uri": "https://localhost:8080/"
    },
    "id": "tPjFOAo-i1qa",
    "outputId": "c1ab3eb1-3430-4514-85bc-4a8a2cc487a7"
   },
   "outputs": [
    {
     "name": "stdout",
     "output_type": "stream",
     "text": [
      "Drive already mounted at /content/drive; to attempt to forcibly remount, call drive.mount(\"/content/drive\", force_remount=True).\n"
     ]
    }
   ],
   "source": [
    "from google.colab import drive\n",
    "drive.mount('/content/drive')"
   ]
  },
  {
   "cell_type": "code",
   "execution_count": null,
   "id": "c23970cf-28a2-45e2-bbcf-b835ebaed5f9",
   "metadata": {
    "colab": {
     "base_uri": "https://localhost:8080/"
    },
    "id": "c23970cf-28a2-45e2-bbcf-b835ebaed5f9",
    "outputId": "d9539a18-c69e-4a25-da84-4db771fd324b"
   },
   "outputs": [
    {
     "name": "stdout",
     "output_type": "stream",
     "text": [
      "Requirement already satisfied: tqdm in /usr/local/lib/python3.10/dist-packages (4.65.0)\n"
     ]
    }
   ],
   "source": [
    "!pip3 install tqdm"
   ]
  },
  {
   "cell_type": "code",
   "execution_count": null,
   "id": "f451a185",
   "metadata": {
    "collapsed": true,
    "id": "f451a185",
    "jupyter": {
     "outputs_hidden": true
    }
   },
   "outputs": [],
   "source": [
    "# !python3 dataloader.py"
   ]
  },
  {
   "cell_type": "code",
   "execution_count": null,
   "id": "7a665f8a",
   "metadata": {
    "colab": {
     "base_uri": "https://localhost:8080/"
    },
    "id": "7a665f8a",
    "outputId": "e5a57531-501e-425c-c27d-cf4ae8df4d6a"
   },
   "outputs": [
    {
     "name": "stdout",
     "output_type": "stream",
     "text": [
      "Requirement already satisfied: opencv-python in /usr/local/lib/python3.10/dist-packages (4.7.0.72)\n",
      "Requirement already satisfied: numpy>=1.21.2 in /usr/local/lib/python3.10/dist-packages (from opencv-python) (1.22.4)\n"
     ]
    }
   ],
   "source": [
    "!pip3 install opencv-python"
   ]
  },
  {
   "cell_type": "code",
   "execution_count": null,
   "id": "GO09IwZMyYFF",
   "metadata": {
    "id": "GO09IwZMyYFF"
   },
   "outputs": [],
   "source": [
    "# from dataloader import create_gw_loaders"
   ]
  },
  {
   "cell_type": "markdown",
   "id": "U1dM_TsAlWx1",
   "metadata": {
    "id": "U1dM_TsAlWx1"
   },
   "source": [
    "# Define loader (will be in an external file)"
   ]
  },
  {
   "cell_type": "code",
   "execution_count": null,
   "id": "j037LCaolb-q",
   "metadata": {
    "id": "j037LCaolb-q"
   },
   "outputs": [],
   "source": [
    "from random import triangular\n",
    "import torch\n",
    "from torch.utils.data import DataLoader, Dataset\n",
    "import numpy as np\n",
    "import numpy.random as npr\n",
    "import os\n",
    "\n",
    "import pandas as pd\n",
    "import cv2\n",
    "\n",
    "import matplotlib.pyplot as plt\n",
    "\n",
    "from torchvision import transforms\n",
    "from PIL import Image, ImageChops, ImageDraw, ImageOps\n",
    "from torchvision.io import read_image\n",
    "\n",
    "pic_sz = 80\n",
    "\n",
    "'''\n",
    "    one font is one batch. After that it can be sliced into subsets.\n",
    "'''\n",
    "\n",
    "def ping():\n",
    "    return \"pong\"\n",
    "\n",
    "def get_ord(name):\n",
    "    return name.slice(\"_\")[-2]\n",
    "\n",
    "def convert(r_image):\n",
    "    numpy_image = cv2.cvtColor(r_image, cv2.COLOR_BGR2GRAY)\n",
    "    image = cv2.resize(numpy_image, (pic_sz, pic_sz)).astype(np.float32)\n",
    "    image = image.reshape(-1)\n",
    "    return image\n",
    "\n",
    "def getImage(font:str, char: str):\n",
    "    return Image.open(f\"gwfonts/converted/train/{font}/{font}_{ord(char)}.png\")\n",
    "\n",
    "\n",
    "def resize(image):\n",
    "    image_size = image.size\n",
    "    width = image_size[0]\n",
    "    height = image_size[1]\n",
    "\n",
    "    if width != height:\n",
    "        bigside = width if width > height else height\n",
    "\n",
    "        background = Image.new('RGBA', (bigside, bigside), (255, 255, 255, 255))\n",
    "        offset = (int(round(((bigside - width ) / 2), 0)), int(round(((bigside - height) / 2), 0)))\n",
    "\n",
    "        background.paste(image, offset)\n",
    "        return background\n",
    "    return image\n",
    "\n",
    "\n",
    "def trim(im):\n",
    "    bg = Image.new(im.mode, im.size, im.getpixel((0, 0)))\n",
    "    diff = ImageChops.difference(im, bg)\n",
    "    diff = ImageChops.add(diff, diff, 2.0, -100)\n",
    "    bbox = diff.getbbox()\n",
    "    if bbox:\n",
    "        return resize(im.crop(bbox)).convert('L').resize((pic_sz, pic_sz))\n",
    "\n",
    "\n",
    "class GwFontsDataset(Dataset):\n",
    "    def __init__(\n",
    "            self,\n",
    "            train: bool,\n",
    "            dataset_len: int,\n",
    "            converted_dir,\n",
    "            batch_size=1,\n",
    "            alphabet=[chr(ord('A') + i) for i in range(26)] + [chr(ord('a') + i) for i in range(26)] + [str(i) for i in range(10)]\n",
    "    ):\n",
    "        self.directory = converted_dir + (\"train\" if train else \"test\")\n",
    "        self.font_names = [dirname for dirname in os.listdir(self.directory) if dirname != '.DS_Store']\n",
    "        self.font_len = len(self.font_names)\n",
    "        self.dataset_len = dataset_len\n",
    "        self.train = train\n",
    "        self.test = not self.train\n",
    "        self.alphabet = alphabet\n",
    "        self.batch_size = batch_size\n",
    "\n",
    "\n",
    "        self.alphabet_len = 2 * 26 + 10\n",
    "        if self.test:\n",
    "            self.train_directory = converted_dir + \"train\"\n",
    "            self.train_names = [dirname for dirname in os.listdir(self.train_directory)][:self.nsamples]\n",
    "\n",
    "    def __len__(self):\n",
    "        return self.dataset_len\n",
    "\n",
    "\n",
    "    @staticmethod\n",
    "    def num_to_ord(idx):\n",
    "        if idx < 10:\n",
    "            return ord('0') + idx\n",
    "        if idx < 36:\n",
    "            return ord('A') + idx - 10\n",
    "        return ord('a') + idx - 36\n",
    "\n",
    "\n",
    "    def __getitem__(self, idx):\n",
    "        transform = transforms.Compose([\n",
    "            # transforms.Normalize()\n",
    "            # transforms.ToTensor(),\n",
    "            # lambda x: x.type(torch.float)\n",
    "            # transforms.Resize((pic_sz, pic_sz)),\n",
    "        ])\n",
    "        dirname = self.font_names[idx]\n",
    "        letter = np.random.choice(self.alphabet, 1)[0]\n",
    "        # print(letter)\n",
    "        pics = (read_image(f\"{self.directory}/{dirname}/{dirname}_{ord(letter)}.png\"), letter)\n",
    "        # print('size', len(pics[0]))\n",
    "        # subset, alph = self.get_ordered_images(idx)\n",
    "        # subset_letters, subset_pics = subset\n",
    "        # print('__getitem__')\n",
    "        # result = [(pics[i], letters[i]) for i in range(len(letters))]\n",
    "        return pics # torch.stack(list(map(lambda x: transform(x), pics))), letters\n",
    "\n",
    "\n",
    "def create_gw_data(converted_dir, batch_size):\n",
    "    return GwFontsDataset(train=True, dataset_len=800, converted_dir=converted_dir, batch_size=batch_size), GwFontsDataset(train=True, dataset_len=800, converted_dir=converted_dir, batch_size=batch_size),\n",
    "\n",
    "\n",
    "def create_gw_loaders(converted_dir=\"gwfonts/converted/\", batch_size=1, nsamples=10):\n",
    "    data = create_gw_data(converted_dir, batch_size)\n",
    "\n",
    "    return DataLoader(data[0], batch_size=batch_size, shuffle=True), \\\n",
    "        DataLoader(data[1], batch_size=batch_size, shuffle=False)\n"
   ]
  },
  {
   "cell_type": "code",
   "execution_count": 110,
   "id": "a9nbaSFjQx6p",
   "metadata": {
    "colab": {
     "base_uri": "https://localhost:8080/",
     "height": 501
    },
    "id": "a9nbaSFjQx6p",
    "outputId": "dfefcec2-fdd3-419c-f65a-5c831a143768"
   },
   "outputs": [],
   "source": [
    "BATCH_SIZE = 4\n",
    "train_loader, test_loader = create_gw_loaders(\"gwfonts/converted/\", batch_size=BATCH_SIZE)\n",
    "def show_batch(n_batches = 2):\n",
    "    fig, axs = plt.subplots(n_batches, BATCH_SIZE, figsize=(20, 20), sharey=True, squeeze=False)\n",
    "    for ind, batch in enumerate(train_loader):\n",
    "        if ind == n_batches:\n",
    "            break\n",
    "        print(batch[1])\n",
    "        batch = rearrange(batch[0], 'bs c w h -> bs w h c')\n",
    "        print(batch[0].shape)\n",
    "        for i in range(BATCH_SIZE):\n",
    "            axs[ind, i].imshow(batch[i])\n",
    "    fig.tight_layout()"
   ]
  },
  {
   "cell_type": "code",
   "execution_count": 111,
   "id": "8bd27aee",
   "metadata": {},
   "outputs": [
    {
     "name": "stdout",
     "output_type": "stream",
     "text": [
      "('0', 'u', 'k', 'a')\n",
      "torch.Size([80, 80, 1])\n",
      "('a', 'k', 'I', 'R')\n",
      "torch.Size([80, 80, 1])\n",
      "('k', 'K', 'A', 'p')\n",
      "torch.Size([80, 80, 1])\n",
      "('d', 'D', 'C', 'b')\n",
      "torch.Size([80, 80, 1])\n",
      "('W', 'X', 'i', 'm')\n",
      "torch.Size([80, 80, 1])\n",
      "('G', 'z', 'R', '6')\n",
      "torch.Size([80, 80, 1])\n"
     ]
    },
    {
     "data": {
      "image/png": "[encoded data removed]",
      "text/plain": [
       "<Figure size 2000x2000 with 24 Axes>"
      ]
     },
     "metadata": {},
     "output_type": "display_data"
    }
   ],
   "source": [
    "show_batch(6)"
   ]
  },
  {
   "cell_type": "markdown",
   "id": "4ecd3930-6cd5-4478-9896-156486a14986",
   "metadata": {
    "id": "4ecd3930-6cd5-4478-9896-156486a14986"
   },
   "source": [
    "# END of imports. Code starts"
   ]
  },
  {
   "cell_type": "code",
   "execution_count": 93,
   "id": "ff687661",
   "metadata": {
    "colab": {
     "base_uri": "https://localhost:8080/"
    },
    "id": "ff687661",
    "outputId": "693e244e-f855-465f-b364-9aced0237380"
   },
   "outputs": [
    {
     "name": "stdout",
     "output_type": "stream",
     "text": [
      "['A', 'B', 'C', 'D', 'E', 'F', 'G', 'H', 'I', 'J', 'K', 'L', 'M', 'N', 'O', 'P', 'Q', 'R', 'S', 'T', 'U', 'V', 'W', 'X', 'Y', 'Z', 'a', 'b', 'c', 'd', 'e', 'f', 'g', 'h', 'i', 'j', 'k', 'l', 'm', 'n', 'o', 'p', 'q', 'r', 's', 't', 'u', 'v', 'w', 'x', 'y', 'z', '0', '1', '2', '3', '4', '5', '6', '7', '8', '9']\n",
      "tensor([0., 0., 0., 0., 0., 0., 0., 0., 0., 0., 0., 0., 0., 0., 0., 0., 0., 0.,\n",
      "        0., 0., 0., 0., 0., 0., 0., 0., 0., 0., 0., 0., 0., 0., 0., 0., 0., 0.,\n",
      "        0., 0., 0., 0., 0., 0., 0., 0., 0., 0., 0., 0., 0., 0., 0., 0., 0., 0.,\n",
      "        0., 0., 0., 1., 0., 0., 0., 0.])\n"
     ]
    }
   ],
   "source": [
    "labels = [chr(ord('A') + i) for i in range(26)] + [chr(ord('a') + i) for i in range(26)] + [str(i) for i in range(10)]\n",
    "print(labels)\n",
    "def one_hot_encode(x):\n",
    "    return torch.FloatTensor([int(i == x) for i in labels])\n",
    "print(one_hot_encode('5'))"
   ]
  },
  {
   "cell_type": "code",
   "execution_count": 102,
   "id": "9adeae6f",
   "metadata": {
    "id": "9adeae6f"
   },
   "outputs": [],
   "source": [
    "working_directory = \"drive/MyDrive/Files/gwfonts/converted/\"\n",
    "\n",
    "latent_dims = 10\n",
    "alphabet_size = len(labels)\n",
    "num_epochs = 100\n",
    "batch_size = 10\n",
    "capacity = 64\n",
    "learning_rate = 1e-3\n",
    "variational_beta = 1\n",
    "use_gpu = True\n",
    "intermediate = 500 # as in the article\n"
   ]
  },
  {
   "cell_type": "code",
   "execution_count": 104,
   "id": "20c55077",
   "metadata": {},
   "outputs": [],
   "source": [
    "Encoder = nn.Sequential(\n",
    "            nn.Linear(in_features = 1*80*80, out_features = intermediate),\n",
    "            nn.Tanh(),\n",
    "            nn.Linear(in_features= intermediate, out_features=intermediate),\n",
    "            nn.Tanh(),\n",
    "            nn.Linear(in_features= intermediate, out_features=latent_dims),\n",
    "            nn.Sigmoid()\n",
    ")\n",
    "\n",
    "Decoder = nn.Sequential(\n",
    "            nn.Linear(in_features= latent_dims + alphabet_size, out_features=intermediate),\n",
    "            nn.Tanh(),\n",
    "            nn.Linear(in_features= intermediate, out_features=intermediate),\n",
    "            nn.Tanh(),\n",
    "            nn.Linear(in_features=intermediate, out_features = 80*80),\n",
    ")\n",
    "ContentClassifier = nn.Sequential(\n",
    "            nn.Linear(in_features = 1*80*80, out_features = intermediate),\n",
    "            nn.ReLU(True),\n",
    "            nn.Linear(in_features = intermediate, out_features = intermediate),\n",
    "            nn.Dropout2d(),\n",
    "            nn.ReLU(True),\n",
    "            nn.Linear(intermediate, alphabet_size)\n",
    ")\n",
    "\n",
    "\n",
    "class ReverseLayerF(Function):\n",
    "    @staticmethod\n",
    "    def forward(ctx, x, alpha):\n",
    "        ctx.alpha = alpha\n",
    "        return x.view_as(x)\n",
    "\n",
    "    @staticmethod\n",
    "    def backward(ctx, grad_output):\n",
    "        output = grad_output.neg() * ctx.alpha\n",
    "        return output, None"
   ]
  },
  {
   "cell_type": "code",
   "execution_count": 105,
   "id": "a213a4c6",
   "metadata": {},
   "outputs": [
    {
     "name": "stdout",
     "output_type": "stream",
     "text": [
      "('v', 'k', 'S', 'w', 'd')\n",
      "torch.Size([1, 80, 80])\n",
      "tensor([[[255., 255., 255.,  ..., 255., 255., 255.],\n",
      "         [255., 255., 255.,  ..., 255., 255., 255.],\n",
      "         [255., 255., 255.,  ..., 255., 255., 255.],\n",
      "         ...,\n",
      "         [255., 255., 255.,  ..., 255., 255., 255.],\n",
      "         [255., 255., 255.,  ..., 255., 255., 255.],\n",
      "         [255., 255., 255.,  ..., 255., 255., 255.]]])\n",
      "tensor([0.6082, 0.5631, 0.3997, 0.4105, 0.5437, 0.5619, 0.5296, 0.5003, 0.3694,\n",
      "        0.4546], grad_fn=<SigmoidBackward0>)\n"
     ]
    }
   ],
   "source": [
    "'''\n",
    "        SOME EXPERIMENTS\n",
    "'''\n",
    "\n",
    "for ind, batch in enumerate(train_loader):\n",
    "    if ind == 1:\n",
    "        break\n",
    "    print(batch[1])\n",
    "    batch = batch[0][0]\n",
    "    print(batch.shape)\n",
    "    batch = batch.to(torch.float32)\n",
    "    print(batch)\n",
    "    batch = torch.flatten(batch)\n",
    "    print(Encoder(batch))"
   ]
  },
  {
   "cell_type": "code",
   "execution_count": null,
   "id": "68647c9e",
   "metadata": {},
   "outputs": [],
   "source": [
    "class TheModel(nn.Module):\n",
    "    def __init__(self):\n",
    "        super().__init__()\n",
    "        self.encoder = Encoder()\n",
    "        self.classifier = ContentClassifier()\n",
    "        self.decoder = Decoder()\n",
    "    def forward(self):\n",
    "        "
   ]
  },
  {
   "cell_type": "code",
   "execution_count": null,
   "id": "5b3179fa",
   "metadata": {
    "colab": {
     "base_uri": "https://localhost:8080/"
    },
    "id": "5b3179fa",
    "outputId": "f76b7672-3063-401a-ade3-095b065bbf5f"
   },
   "outputs": [
    {
     "name": "stdout",
     "output_type": "stream",
     "text": [
      "Number of parameters: 7491982\n"
     ]
    }
   ],
   "source": [
    "\n",
    "class VariationalAutoencoder(nn.Module):\n",
    "    def __init__(self):\n",
    "        super(VariationalAutoencoder, self).__init__()\n",
    "        self.encoder = Encoder()\n",
    "        self.decoder = Decoder()\n",
    "        self.flatten = nn.Flatten()\n",
    "        self.classifier = Classifier()\n",
    "        self.reverse_grad = ReverseGrad.apply\n",
    "\n",
    "    def forward(self, x, labels):\n",
    "        latent_mu, latent_logvar = self.encoder(x)\n",
    "        latent = self.latent_sample(latent_mu, latent_logvar)\n",
    "        # print('encoded', label[0], one_hot_encode(label[0]))\n",
    "        # print('latent', latent.shape, latent_dims)\n",
    "        # label_enc = latent.clone()\n",
    "        label_enc = torch.tensor(np.stack([one_hot_encode(label[i]) for i in range(latent.shape[0])]))\n",
    "        # print(label_enc)\n",
    "\n",
    "\n",
    "        # latent = self.classifier(latent)\n",
    "        # latent = self.reverse_grad(latent, self.classifier.weight)\n",
    "\n",
    "        # latent_ = self.classifier(latent)\n",
    "        # print(label_enc.shape, latent.shape, torch.hstack((latent, label_enc)).shape) # (10, 62)    (10, 2)\n",
    "        x_recon = self.decoder(torch.hstack((latent, label_enc)))\n",
    "        # latent_fl = latent.view(latent.size(0), -1)\n",
    "        # print('latent shape', latent.shape)\n",
    "        # latent_fl = torch.flatten(latent)\n",
    "        # print(latent_fl.shape)\n",
    "        # x_recon = self.decoder(latent_fl).reshape((62,  80, 80))\n",
    "        return x_recon, latent_mu, latent_logvar\n",
    "\n",
    "    # def backward(self):\n",
    "    #     pass\n",
    "\n",
    "    def latent_sample(self, mu, logvar):\n",
    "        if self.training:\n",
    "            # the reparameterization trick\n",
    "            std = logvar.mul(0.5).exp_()\n",
    "            eps = torch.empty_like(std).normal_()\n",
    "            return eps.mul(std).add_(mu)\n",
    "        else:\n",
    "            return mu\n",
    "\n",
    "def vae_loss(recon_x, x, mu, logvar):\n",
    "    # recon_x is the probability of a multivariate Bernoulli distribution p.\n",
    "    # -log(p(x)) is then the pixel-wise binary cross-entropy.\n",
    "    # Averaging or not averaging the binary cross-entropy over all pixels here\n",
    "    # is a subtle detail with big effect on training, since it changes the weight\n",
    "    # we need to pick for the other loss term by several orders of magnitude.\n",
    "    # Not averaging is the direct implementation of the negative log likelihood,\n",
    "    # but averaging makes the weight of the other loss term independent of the image resolution.\n",
    "    recon_loss = F.binary_cross_entropy(recon_x.view(-1, 6400), x.view(-1, 6400), reduction='sum')\n",
    "\n",
    "    # KL-divergence between the prior distribution over latent vectors\n",
    "    # (the one we are going to sample from when generating new images)\n",
    "    # and the distribution estimated by the generator for the given image.\n",
    "    kldivergence = -0.5 * torch.sum(1 + logvar - mu.pow(2) - logvar.exp())\n",
    "    # print(recon_loss)\n",
    "    # print(variational_beta, kldivergence)\n",
    "    # print(\"---\")\n",
    "    return recon_loss + variational_beta * kldivergence\n",
    "\n",
    "\n",
    "vae = VariationalAutoencoder()\n",
    "\n",
    "device = torch.device(\"cuda:0\" if use_gpu and torch.cuda.is_available() else \"cpu\")\n",
    "vae = vae.to(device)\n",
    "\n",
    "num_params = sum(p.numel() for p in vae.parameters() if p.requires_grad)\n",
    "print('Number of parameters: %d' % num_params)"
   ]
  },
  {
   "cell_type": "code",
   "execution_count": null,
   "id": "UNBGmagxl-qS",
   "metadata": {
    "id": "UNBGmagxl-qS"
   },
   "outputs": [],
   "source": [
    "import os"
   ]
  },
  {
   "cell_type": "code",
   "execution_count": null,
   "id": "79304062",
   "metadata": {
    "colab": {
     "base_uri": "https://localhost:8080/",
     "height": 426
    },
    "id": "79304062",
    "outputId": "a5572a7f-6c25-48d7-afe2-4655eae4194a",
    "scrolled": true
   },
   "outputs": [
    {
     "metadata": {
      "tags": null
     },
     "name": "stdout",
     "output_type": "stream",
     "text": [
      "Training ...\n"
     ]
    },
    {
     "metadata": {
      "tags": null
     },
     "name": "stderr",
     "output_type": "stream",
     "text": [
      "  1%|          | 1/100 [03:15<5:23:10, 195.86s/it]"
     ]
    },
    {
     "metadata": {
      "tags": null
     },
     "name": "stdout",
     "output_type": "stream",
     "text": [
      " Epoch [1 / 100] average reconstruction error: 6163.379448\n"
     ]
    },
    {
     "name": "stderr",
     "output_type": "stream",
     "text": [
      "\r",
      "  1%|          | 1/100 [04:57<8:10:15, 297.13s/it]\n"
     ]
    },
    {
     "ename": "KeyboardInterrupt",
     "evalue": "ignored",
     "output_type": "error",
     "traceback": [
      "\u001b[0;31m---------------------------------------------------------------------------\u001b[0m",
      "\u001b[0;31mKeyboardInterrupt\u001b[0m                         Traceback (most recent call last)",
      "\u001b[0;32m<ipython-input-14-c4ee1d80d87d>\u001b[0m in \u001b[0;36m<cell line: 11>\u001b[0;34m()\u001b[0m\n\u001b[1;32m     13\u001b[0m     \u001b[0mnum_batches\u001b[0m \u001b[0;34m=\u001b[0m \u001b[0;36m0\u001b[0m\u001b[0;34m\u001b[0m\u001b[0;34m\u001b[0m\u001b[0m\n\u001b[1;32m     14\u001b[0m \u001b[0;34m\u001b[0m\u001b[0m\n\u001b[0;32m---> 15\u001b[0;31m     \u001b[0;32mfor\u001b[0m \u001b[0mbatch\u001b[0m \u001b[0;32min\u001b[0m \u001b[0mtrain_loader\u001b[0m\u001b[0;34m:\u001b[0m\u001b[0;34m\u001b[0m\u001b[0;34m\u001b[0m\u001b[0m\n\u001b[0m\u001b[1;32m     16\u001b[0m \u001b[0;31m#             print(l)\u001b[0m\u001b[0;34m\u001b[0m\u001b[0;34m\u001b[0m\u001b[0m\n\u001b[1;32m     17\u001b[0m             \u001b[0;31m# print(image_batch.shape)\u001b[0m\u001b[0;34m\u001b[0m\u001b[0;34m\u001b[0m\u001b[0m\n",
      "\u001b[0;32m/usr/local/lib/python3.10/dist-packages/torch/utils/data/dataloader.py\u001b[0m in \u001b[0;36m__next__\u001b[0;34m(self)\u001b[0m\n\u001b[1;32m    631\u001b[0m                 \u001b[0;31m# TODO(https://github.com/pytorch/pytorch/issues/76750)\u001b[0m\u001b[0;34m\u001b[0m\u001b[0;34m\u001b[0m\u001b[0m\n\u001b[1;32m    632\u001b[0m                 \u001b[0mself\u001b[0m\u001b[0;34m.\u001b[0m\u001b[0m_reset\u001b[0m\u001b[0;34m(\u001b[0m\u001b[0;34m)\u001b[0m  \u001b[0;31m# type: ignore[call-arg]\u001b[0m\u001b[0;34m\u001b[0m\u001b[0;34m\u001b[0m\u001b[0m\n\u001b[0;32m--> 633\u001b[0;31m             \u001b[0mdata\u001b[0m \u001b[0;34m=\u001b[0m \u001b[0mself\u001b[0m\u001b[0;34m.\u001b[0m\u001b[0m_next_data\u001b[0m\u001b[0;34m(\u001b[0m\u001b[0;34m)\u001b[0m\u001b[0;34m\u001b[0m\u001b[0;34m\u001b[0m\u001b[0m\n\u001b[0m\u001b[1;32m    634\u001b[0m             \u001b[0mself\u001b[0m\u001b[0;34m.\u001b[0m\u001b[0m_num_yielded\u001b[0m \u001b[0;34m+=\u001b[0m \u001b[0;36m1\u001b[0m\u001b[0;34m\u001b[0m\u001b[0;34m\u001b[0m\u001b[0m\n\u001b[1;32m    635\u001b[0m             \u001b[0;32mif\u001b[0m \u001b[0mself\u001b[0m\u001b[0;34m.\u001b[0m\u001b[0m_dataset_kind\u001b[0m \u001b[0;34m==\u001b[0m \u001b[0m_DatasetKind\u001b[0m\u001b[0;34m.\u001b[0m\u001b[0mIterable\u001b[0m \u001b[0;32mand\u001b[0m\u001b[0;31m \u001b[0m\u001b[0;31m\\\u001b[0m\u001b[0;34m\u001b[0m\u001b[0;34m\u001b[0m\u001b[0m\n",
      "\u001b[0;32m/usr/local/lib/python3.10/dist-packages/torch/utils/data/dataloader.py\u001b[0m in \u001b[0;36m_next_data\u001b[0;34m(self)\u001b[0m\n\u001b[1;32m    675\u001b[0m     \u001b[0;32mdef\u001b[0m \u001b[0m_next_data\u001b[0m\u001b[0;34m(\u001b[0m\u001b[0mself\u001b[0m\u001b[0;34m)\u001b[0m\u001b[0;34m:\u001b[0m\u001b[0;34m\u001b[0m\u001b[0;34m\u001b[0m\u001b[0m\n\u001b[1;32m    676\u001b[0m         \u001b[0mindex\u001b[0m \u001b[0;34m=\u001b[0m \u001b[0mself\u001b[0m\u001b[0;34m.\u001b[0m\u001b[0m_next_index\u001b[0m\u001b[0;34m(\u001b[0m\u001b[0;34m)\u001b[0m  \u001b[0;31m# may raise StopIteration\u001b[0m\u001b[0;34m\u001b[0m\u001b[0;34m\u001b[0m\u001b[0m\n\u001b[0;32m--> 677\u001b[0;31m         \u001b[0mdata\u001b[0m \u001b[0;34m=\u001b[0m \u001b[0mself\u001b[0m\u001b[0;34m.\u001b[0m\u001b[0m_dataset_fetcher\u001b[0m\u001b[0;34m.\u001b[0m\u001b[0mfetch\u001b[0m\u001b[0;34m(\u001b[0m\u001b[0mindex\u001b[0m\u001b[0;34m)\u001b[0m  \u001b[0;31m# may raise StopIteration\u001b[0m\u001b[0;34m\u001b[0m\u001b[0;34m\u001b[0m\u001b[0m\n\u001b[0m\u001b[1;32m    678\u001b[0m         \u001b[0;32mif\u001b[0m \u001b[0mself\u001b[0m\u001b[0;34m.\u001b[0m\u001b[0m_pin_memory\u001b[0m\u001b[0;34m:\u001b[0m\u001b[0;34m\u001b[0m\u001b[0;34m\u001b[0m\u001b[0m\n\u001b[1;32m    679\u001b[0m             \u001b[0mdata\u001b[0m \u001b[0;34m=\u001b[0m \u001b[0m_utils\u001b[0m\u001b[0;34m.\u001b[0m\u001b[0mpin_memory\u001b[0m\u001b[0;34m.\u001b[0m\u001b[0mpin_memory\u001b[0m\u001b[0;34m(\u001b[0m\u001b[0mdata\u001b[0m\u001b[0;34m,\u001b[0m \u001b[0mself\u001b[0m\u001b[0;34m.\u001b[0m\u001b[0m_pin_memory_device\u001b[0m\u001b[0;34m)\u001b[0m\u001b[0;34m\u001b[0m\u001b[0;34m\u001b[0m\u001b[0m\n",
      "\u001b[0;32m/usr/local/lib/python3.10/dist-packages/torch/utils/data/_utils/fetch.py\u001b[0m in \u001b[0;36mfetch\u001b[0;34m(self, possibly_batched_index)\u001b[0m\n\u001b[1;32m     49\u001b[0m                 \u001b[0mdata\u001b[0m \u001b[0;34m=\u001b[0m \u001b[0mself\u001b[0m\u001b[0;34m.\u001b[0m\u001b[0mdataset\u001b[0m\u001b[0;34m.\u001b[0m\u001b[0m__getitems__\u001b[0m\u001b[0;34m(\u001b[0m\u001b[0mpossibly_batched_index\u001b[0m\u001b[0;34m)\u001b[0m\u001b[0;34m\u001b[0m\u001b[0;34m\u001b[0m\u001b[0m\n\u001b[1;32m     50\u001b[0m             \u001b[0;32melse\u001b[0m\u001b[0;34m:\u001b[0m\u001b[0;34m\u001b[0m\u001b[0;34m\u001b[0m\u001b[0m\n\u001b[0;32m---> 51\u001b[0;31m                 \u001b[0mdata\u001b[0m \u001b[0;34m=\u001b[0m \u001b[0;34m[\u001b[0m\u001b[0mself\u001b[0m\u001b[0;34m.\u001b[0m\u001b[0mdataset\u001b[0m\u001b[0;34m[\u001b[0m\u001b[0midx\u001b[0m\u001b[0;34m]\u001b[0m \u001b[0;32mfor\u001b[0m \u001b[0midx\u001b[0m \u001b[0;32min\u001b[0m \u001b[0mpossibly_batched_index\u001b[0m\u001b[0;34m]\u001b[0m\u001b[0;34m\u001b[0m\u001b[0;34m\u001b[0m\u001b[0m\n\u001b[0m\u001b[1;32m     52\u001b[0m         \u001b[0;32melse\u001b[0m\u001b[0;34m:\u001b[0m\u001b[0;34m\u001b[0m\u001b[0;34m\u001b[0m\u001b[0m\n\u001b[1;32m     53\u001b[0m             \u001b[0mdata\u001b[0m \u001b[0;34m=\u001b[0m \u001b[0mself\u001b[0m\u001b[0;34m.\u001b[0m\u001b[0mdataset\u001b[0m\u001b[0;34m[\u001b[0m\u001b[0mpossibly_batched_index\u001b[0m\u001b[0;34m]\u001b[0m\u001b[0;34m\u001b[0m\u001b[0;34m\u001b[0m\u001b[0m\n",
      "\u001b[0;32m/usr/local/lib/python3.10/dist-packages/torch/utils/data/_utils/fetch.py\u001b[0m in \u001b[0;36m<listcomp>\u001b[0;34m(.0)\u001b[0m\n\u001b[1;32m     49\u001b[0m                 \u001b[0mdata\u001b[0m \u001b[0;34m=\u001b[0m \u001b[0mself\u001b[0m\u001b[0;34m.\u001b[0m\u001b[0mdataset\u001b[0m\u001b[0;34m.\u001b[0m\u001b[0m__getitems__\u001b[0m\u001b[0;34m(\u001b[0m\u001b[0mpossibly_batched_index\u001b[0m\u001b[0;34m)\u001b[0m\u001b[0;34m\u001b[0m\u001b[0;34m\u001b[0m\u001b[0m\n\u001b[1;32m     50\u001b[0m             \u001b[0;32melse\u001b[0m\u001b[0;34m:\u001b[0m\u001b[0;34m\u001b[0m\u001b[0;34m\u001b[0m\u001b[0m\n\u001b[0;32m---> 51\u001b[0;31m                 \u001b[0mdata\u001b[0m \u001b[0;34m=\u001b[0m \u001b[0;34m[\u001b[0m\u001b[0mself\u001b[0m\u001b[0;34m.\u001b[0m\u001b[0mdataset\u001b[0m\u001b[0;34m[\u001b[0m\u001b[0midx\u001b[0m\u001b[0;34m]\u001b[0m \u001b[0;32mfor\u001b[0m \u001b[0midx\u001b[0m \u001b[0;32min\u001b[0m \u001b[0mpossibly_batched_index\u001b[0m\u001b[0;34m]\u001b[0m\u001b[0;34m\u001b[0m\u001b[0;34m\u001b[0m\u001b[0m\n\u001b[0m\u001b[1;32m     52\u001b[0m         \u001b[0;32melse\u001b[0m\u001b[0;34m:\u001b[0m\u001b[0;34m\u001b[0m\u001b[0;34m\u001b[0m\u001b[0m\n\u001b[1;32m     53\u001b[0m             \u001b[0mdata\u001b[0m \u001b[0;34m=\u001b[0m \u001b[0mself\u001b[0m\u001b[0;34m.\u001b[0m\u001b[0mdataset\u001b[0m\u001b[0;34m[\u001b[0m\u001b[0mpossibly_batched_index\u001b[0m\u001b[0;34m]\u001b[0m\u001b[0;34m\u001b[0m\u001b[0;34m\u001b[0m\u001b[0m\n",
      "\u001b[0;32m<ipython-input-8-4866a9594cd5>\u001b[0m in \u001b[0;36m__getitem__\u001b[0;34m(self, idx)\u001b[0m\n\u001b[1;32m    136\u001b[0m         \u001b[0mletter\u001b[0m \u001b[0;34m=\u001b[0m \u001b[0mnp\u001b[0m\u001b[0;34m.\u001b[0m\u001b[0mrandom\u001b[0m\u001b[0;34m.\u001b[0m\u001b[0mchoice\u001b[0m\u001b[0;34m(\u001b[0m\u001b[0mself\u001b[0m\u001b[0;34m.\u001b[0m\u001b[0malphabet\u001b[0m\u001b[0;34m,\u001b[0m \u001b[0;36m1\u001b[0m\u001b[0;34m)\u001b[0m\u001b[0;34m[\u001b[0m\u001b[0;36m0\u001b[0m\u001b[0;34m]\u001b[0m\u001b[0;34m\u001b[0m\u001b[0;34m\u001b[0m\u001b[0m\n\u001b[1;32m    137\u001b[0m         \u001b[0;31m# print(letter)\u001b[0m\u001b[0;34m\u001b[0m\u001b[0;34m\u001b[0m\u001b[0m\n\u001b[0;32m--> 138\u001b[0;31m         \u001b[0mpics\u001b[0m \u001b[0;34m=\u001b[0m \u001b[0;34m(\u001b[0m\u001b[0mread_image\u001b[0m\u001b[0;34m(\u001b[0m\u001b[0;34mf\"{self.directory}/{dirname}/{dirname}_{ord(letter)}.png\"\u001b[0m\u001b[0;34m)\u001b[0m\u001b[0;34m,\u001b[0m \u001b[0mletter\u001b[0m\u001b[0;34m)\u001b[0m\u001b[0;34m\u001b[0m\u001b[0;34m\u001b[0m\u001b[0m\n\u001b[0m\u001b[1;32m    139\u001b[0m         \u001b[0;31m# print('size', len(pics[0]))\u001b[0m\u001b[0;34m\u001b[0m\u001b[0;34m\u001b[0m\u001b[0m\n\u001b[1;32m    140\u001b[0m         \u001b[0;31m# subset, alph = self.get_ordered_images(idx)\u001b[0m\u001b[0;34m\u001b[0m\u001b[0;34m\u001b[0m\u001b[0m\n",
      "\u001b[0;32m/usr/local/lib/python3.10/dist-packages/torchvision/io/image.py\u001b[0m in \u001b[0;36mread_image\u001b[0;34m(path, mode)\u001b[0m\n\u001b[1;32m    257\u001b[0m         \u001b[0m_log_api_usage_once\u001b[0m\u001b[0;34m(\u001b[0m\u001b[0mread_image\u001b[0m\u001b[0;34m)\u001b[0m\u001b[0;34m\u001b[0m\u001b[0;34m\u001b[0m\u001b[0m\n\u001b[1;32m    258\u001b[0m     \u001b[0mdata\u001b[0m \u001b[0;34m=\u001b[0m \u001b[0mread_file\u001b[0m\u001b[0;34m(\u001b[0m\u001b[0mpath\u001b[0m\u001b[0;34m)\u001b[0m\u001b[0;34m\u001b[0m\u001b[0;34m\u001b[0m\u001b[0m\n\u001b[0;32m--> 259\u001b[0;31m     \u001b[0;32mreturn\u001b[0m \u001b[0mdecode_image\u001b[0m\u001b[0;34m(\u001b[0m\u001b[0mdata\u001b[0m\u001b[0;34m,\u001b[0m \u001b[0mmode\u001b[0m\u001b[0;34m)\u001b[0m\u001b[0;34m\u001b[0m\u001b[0;34m\u001b[0m\u001b[0m\n\u001b[0m\u001b[1;32m    260\u001b[0m \u001b[0;34m\u001b[0m\u001b[0m\n\u001b[1;32m    261\u001b[0m \u001b[0;34m\u001b[0m\u001b[0m\n",
      "\u001b[0;32m/usr/local/lib/python3.10/dist-packages/torchvision/io/image.py\u001b[0m in \u001b[0;36mdecode_image\u001b[0;34m(input, mode)\u001b[0m\n\u001b[1;32m    234\u001b[0m     \u001b[0;32mif\u001b[0m \u001b[0;32mnot\u001b[0m \u001b[0mtorch\u001b[0m\u001b[0;34m.\u001b[0m\u001b[0mjit\u001b[0m\u001b[0;34m.\u001b[0m\u001b[0mis_scripting\u001b[0m\u001b[0;34m(\u001b[0m\u001b[0;34m)\u001b[0m \u001b[0;32mand\u001b[0m \u001b[0;32mnot\u001b[0m \u001b[0mtorch\u001b[0m\u001b[0;34m.\u001b[0m\u001b[0mjit\u001b[0m\u001b[0;34m.\u001b[0m\u001b[0mis_tracing\u001b[0m\u001b[0;34m(\u001b[0m\u001b[0;34m)\u001b[0m\u001b[0;34m:\u001b[0m\u001b[0;34m\u001b[0m\u001b[0;34m\u001b[0m\u001b[0m\n\u001b[1;32m    235\u001b[0m         \u001b[0m_log_api_usage_once\u001b[0m\u001b[0;34m(\u001b[0m\u001b[0mdecode_image\u001b[0m\u001b[0;34m)\u001b[0m\u001b[0;34m\u001b[0m\u001b[0;34m\u001b[0m\u001b[0m\n\u001b[0;32m--> 236\u001b[0;31m     \u001b[0moutput\u001b[0m \u001b[0;34m=\u001b[0m \u001b[0mtorch\u001b[0m\u001b[0;34m.\u001b[0m\u001b[0mops\u001b[0m\u001b[0;34m.\u001b[0m\u001b[0mimage\u001b[0m\u001b[0;34m.\u001b[0m\u001b[0mdecode_image\u001b[0m\u001b[0;34m(\u001b[0m\u001b[0minput\u001b[0m\u001b[0;34m,\u001b[0m \u001b[0mmode\u001b[0m\u001b[0;34m.\u001b[0m\u001b[0mvalue\u001b[0m\u001b[0;34m)\u001b[0m\u001b[0;34m\u001b[0m\u001b[0;34m\u001b[0m\u001b[0m\n\u001b[0m\u001b[1;32m    237\u001b[0m     \u001b[0;32mreturn\u001b[0m \u001b[0moutput\u001b[0m\u001b[0;34m\u001b[0m\u001b[0;34m\u001b[0m\u001b[0m\n\u001b[1;32m    238\u001b[0m \u001b[0;34m\u001b[0m\u001b[0m\n",
      "\u001b[0;32m/usr/local/lib/python3.10/dist-packages/torch/_ops.py\u001b[0m in \u001b[0;36m__call__\u001b[0;34m(self, *args, **kwargs)\u001b[0m\n\u001b[1;32m    500\u001b[0m         \u001b[0;31m# We save the function ptr as the `op` attribute on\u001b[0m\u001b[0;34m\u001b[0m\u001b[0;34m\u001b[0m\u001b[0m\n\u001b[1;32m    501\u001b[0m         \u001b[0;31m# OpOverloadPacket to access it here.\u001b[0m\u001b[0;34m\u001b[0m\u001b[0;34m\u001b[0m\u001b[0m\n\u001b[0;32m--> 502\u001b[0;31m         \u001b[0;32mreturn\u001b[0m \u001b[0mself\u001b[0m\u001b[0;34m.\u001b[0m\u001b[0m_op\u001b[0m\u001b[0;34m(\u001b[0m\u001b[0;34m*\u001b[0m\u001b[0margs\u001b[0m\u001b[0;34m,\u001b[0m \u001b[0;34m**\u001b[0m\u001b[0mkwargs\u001b[0m \u001b[0;32mor\u001b[0m \u001b[0;34m{\u001b[0m\u001b[0;34m}\u001b[0m\u001b[0;34m)\u001b[0m\u001b[0;34m\u001b[0m\u001b[0;34m\u001b[0m\u001b[0m\n\u001b[0m\u001b[1;32m    503\u001b[0m \u001b[0;34m\u001b[0m\u001b[0m\n\u001b[1;32m    504\u001b[0m     \u001b[0;31m# TODO: use this to make a __dir__\u001b[0m\u001b[0;34m\u001b[0m\u001b[0;34m\u001b[0m\u001b[0m\n",
      "\u001b[0;31mKeyboardInterrupt\u001b[0m: "
     ]
    }
   ],
   "source": [
    "import tqdm\n",
    "optimizer = torch.optim.Adam(params=vae.parameters(), lr=learning_rate, weight_decay=1e-5)\n",
    "\n",
    "# set to training mode\n",
    "vae.train()\n",
    "train_loader, test_loader = create_gw_loaders(working_directory, batch_size=4)\n",
    "\n",
    "train_loss_avg = []\n",
    "\n",
    "print('Training ...')\n",
    "for epoch in tqdm.tqdm(range(num_epochs)):\n",
    "    train_loss_avg.append(0)\n",
    "    num_batches = 0\n",
    "\n",
    "    for batch in train_loader:\n",
    "#             print(l)\n",
    "            # print(image_batch.shape)\n",
    "            # subset_labels, image_batch_ = batch\n",
    "            # print(len(labels), labels[0].shape, labels[1])\n",
    "            # label\n",
    "            # print([i[0].squeeze() for i in labels])\n",
    "\n",
    "            # image_batch = torch.tensor(np.stack([i[0].squeeze() for i in labels]))\n",
    "            # letters = [i[1] for i in labels]\n",
    "            # image_batch = image_batch.type(torch.float).to(device)\n",
    "            imgs = torch.nn.functional.normalize(batch[0].type(torch.float)).to(device)\n",
    "\n",
    "            # vae reconstruction\n",
    "            # print('start', one_hot_encode('a'))\n",
    "            image_batch_recon, latent_mu, latent_logvar = vae(imgs, batch[1])\n",
    "\n",
    "            # reconstruction error\n",
    "            loss = vae_loss(image_batch_recon, imgs, latent_mu, latent_logvar)\n",
    "\n",
    "            # backpropagation\n",
    "            optimizer.zero_grad()\n",
    "            loss.backward()\n",
    "\n",
    "            # one step of the optmizer (using the gradients from backpropagation)\n",
    "            optimizer.step()\n",
    "\n",
    "            train_loss_avg[-1] += loss.item()\n",
    "            num_batches += 1\n",
    "\n",
    "    train_loss_avg[-1] /= num_batches\n",
    "    print(' Epoch [%d / %d] average reconstruction error: %f' % (epoch+1, num_epochs, train_loss_avg[-1]))"
   ]
  },
  {
   "cell_type": "code",
   "execution_count": null,
   "id": "339749ee",
   "metadata": {
    "id": "339749ee"
   },
   "outputs": [],
   "source": [
    "vae.eval()\n",
    "\n",
    "test_loss_avg, num_batches = 0, 0\n",
    "for image_batch_, label in test_loader:\n",
    "    for (image_batch, l) in zip(image_batch_, label):\n",
    "        with torch.no_grad():\n",
    "\n",
    "            image_batch = image_batch.to(device)\n",
    "\n",
    "            # vae reconstruction\n",
    "            image_batch_recon, latent_mu, latent_logvar = vae(image_batch, l)\n",
    "\n",
    "            # reconstruction error\n",
    "            loss = vae_loss(image_batch_recon, image_batch, latent_mu, latent_logvar)\n",
    "\n",
    "            test_loss_avg += loss.item()\n",
    "            num_batches += 1\n",
    "\n",
    "test_loss_avg /= num_batches\n",
    "print('average reconstruction error: %f' % (test_loss_avg))"
   ]
  },
  {
   "cell_type": "code",
   "execution_count": null,
   "id": "86996211",
   "metadata": {
    "id": "86996211"
   },
   "outputs": [],
   "source": [
    "train_loader, test_loader = create_gw_loaders()"
   ]
  },
  {
   "cell_type": "code",
   "execution_count": null,
   "id": "b900b1be",
   "metadata": {
    "id": "b900b1be"
   },
   "outputs": [],
   "source": [
    "for image_batch_, label in test_loader:\n",
    "    print(image_batch_.shape)\n",
    "    g = image_batch[0]\n",
    "    print(g.shape)"
   ]
  },
  {
   "cell_type": "code",
   "execution_count": null,
   "id": "efe4d2bb",
   "metadata": {
    "collapsed": true,
    "id": "efe4d2bb",
    "jupyter": {
     "outputs_hidden": true
    }
   },
   "outputs": [],
   "source": [
    "vae.eval()\n",
    "\n",
    "def interpolation(lambda1, model, img1, img2):\n",
    "\n",
    "    with torch.no_grad():\n",
    "\n",
    "        # latent vector of first image\n",
    "        img1 = img1.to(device)\n",
    "        latent_1, _ = model.encoder(img1)\n",
    "\n",
    "        # latent vector of second image\n",
    "        img2 = img2.to(device)\n",
    "        latent_2, _ = model.encoder(img2)\n",
    "\n",
    "        # interpolation of the two latent vectors\n",
    "        inter_latent = lambda1* latent_1 + (1- lambda1) * latent_2\n",
    "\n",
    "        # reconstruct interpolated image\n",
    "        inter_image = model.decoder(inter_latent)\n",
    "        inter_image = inter_image.cpu()\n",
    "\n",
    "        return inter_image\n",
    "\n",
    "# sort part of test set by digit\n",
    "labels_res = [[] for _ in labels]\n",
    "k = 0\n",
    "c = 0\n",
    "for img_batch_, label_batch_ in test_loader:\n",
    "    for (img_batch, label_batch) in zip(img_batch_, label_batch_):\n",
    "        if c == 1000:\n",
    "            k = 0\n",
    "            c = 0\n",
    "        if k == 10:\n",
    "            c += 1\n",
    "            continue\n",
    "        k += 1\n",
    "        for i in range(img_batch.size(0)):\n",
    "            l = one_hot_encode(label_batch)\n",
    "#             print(label_batch, l)\n",
    "            labels_res[l.type(torch.int32).numpy()[i]].append(img_batch[i:i+1])\n",
    "        if sum(len(d) for d in labels_res) >= 10000:\n",
    "            break\n",
    "\n",
    "# print\n",
    "# for i in labels_res:\n",
    "#     print([k.shape for k in i])\n",
    "#     print(len(i))\n",
    "\n",
    "\n",
    "# print(labels[0].shape)\n",
    "with torch.no_grad():\n",
    "    for i in range(len(labels_res[0])):\n",
    "        (img, _, _) = vae.forward(labels_res[0][i], '4')\n",
    "        print(img.shape)\n",
    "        plt.imshow(img.squeeze(), cmap='gray')\n",
    "        plt.show()\n",
    "# interpolation lambdas\n",
    "# lambda_range=np.linspace(0, 1, 10)\n",
    "\n",
    "# fig, axs = plt.subplots(2,5, figsize=(15, 6))\n",
    "# fig.subplots_adjust(hspace = .5, wspace=.001)\n",
    "# axs = axs.ravel()\n",
    "\n",
    "# print(labels_res[0][0].shape)\n",
    "\n",
    "# for ind,l in enumerate(lambda_range):\n",
    "#     inter_image=interpolation(float(l), vae, labels_res[0][0], labels_res[1][0])\n",
    "\n",
    "#     inter_image = to_img(inter_image)\n",
    "\n",
    "#     image = inter_image.numpy()\n",
    "\n",
    "#     axs[ind].imshow(image[0,0,:,:], cmap='gray')\n",
    "#     axs[ind].set_title('lambda_val='+str(round(l,1)))\n",
    "# plt.show()"
   ]
  },
  {
   "cell_type": "code",
   "execution_count": null,
   "id": "943eeedb-97df-4133-b197-10d7ec4b9538",
   "metadata": {
    "id": "943eeedb-97df-4133-b197-10d7ec4b9538"
   },
   "outputs": [],
   "source": [
    "import os\n",
    "for x in os.listdir(\"gwfonts/converted/train\"):\n",
    "    if(len(x.split(\"_\")) > 1):\n",
    "        print(x)"
   ]
  },
  {
   "cell_type": "code",
   "execution_count": null,
   "id": "629806fd",
   "metadata": {
    "id": "629806fd"
   },
   "outputs": [],
   "source": [
    "# !rm -r gwfonts/converted/train/PT_Sans-Web-BoldItalic"
   ]
  },
  {
   "cell_type": "code",
   "execution_count": null,
   "id": "313ce50f",
   "metadata": {
    "id": "313ce50f"
   },
   "outputs": [],
   "source": []
  }
 ],
 "metadata": {
  "colab": {
   "provenance": [],
   "toc_visible": true
  },
  "kernelspec": {
   "display_name": "Python 3 (ipykernel)",
   "language": "python",
   "name": "python3"
  },
  "language_info": {
   "codemirror_mode": {
    "name": "ipython",
    "version": 3
   },
   "file_extension": ".py",
   "mimetype": "text/x-python",
   "name": "python",
   "nbconvert_exporter": "python",
   "pygments_lexer": "ipython3",
   "version": "3.11.4"
  }
 },
 "nbformat": 4,
 "nbformat_minor": 5
}
